{
  "nbformat": 4,
  "nbformat_minor": 0,
  "metadata": {
    "colab": {
      "provenance": [],
      "authorship_tag": "ABX9TyNDGAzsHJSK4ZheukJ8yzvJ",
      "include_colab_link": true
    },
    "kernelspec": {
      "name": "python3",
      "display_name": "Python 3"
    },
    "language_info": {
      "name": "python"
    }
  },
  "cells": [
    {
      "cell_type": "markdown",
      "metadata": {
        "id": "view-in-github",
        "colab_type": "text"
      },
      "source": [
        "<a href=\"https://colab.research.google.com/github/PolinaBoeva/predictive_models_dota2/blob/main/experiments/Boeva/%D0%91%D0%B5%D0%B9%D0%B7%D0%BB%D0%B0%D0%B9%D0%BD_%D0%B8_%D0%BB%D0%B8%D0%BD%D0%B5%D0%B9%D0%BD%D1%8B%D0%B5_%D0%BC%D0%BE%D0%B4%D0%B5%D0%BB%D0%B8_%D0%91%D0%BE%D0%B5%D0%B2%D0%B0.ipynb\" target=\"_parent\"><img src=\"https://colab.research.google.com/assets/colab-badge.svg\" alt=\"Open In Colab\"/></a>"
      ]
    },
    {
      "cell_type": "code",
      "source": [
        "import pandas as pd\n",
        "from sklearn.linear_model import LogisticRegression\n",
        "from sklearn.pipeline import Pipeline\n",
        "from sklearn.metrics import accuracy_score, precision_score, recall_score, f1_score, roc_auc_score\n",
        "from sklearn.preprocessing import StandardScaler"
      ],
      "metadata": {
        "id": "tgf9D0wqZjvN"
      },
      "execution_count": 20,
      "outputs": []
    },
    {
      "cell_type": "code",
      "source": [
        "import warnings\n",
        "warnings.filterwarnings(\"ignore\")"
      ],
      "metadata": {
        "id": "wLGK3KPOzszY"
      },
      "execution_count": 34,
      "outputs": []
    },
    {
      "cell_type": "code",
      "source": [
        "df_team_cleaned = pd.read_csv('df_team_cleaned.csv')\n",
        "df_team_cleaned = df_team_cleaned.drop(df_team_cleaned.columns[0], axis=1)\n",
        "df_team_cleaned.head()"
      ],
      "metadata": {
        "id": "BEKDYbDC9mzc",
        "colab": {
          "base_uri": "https://localhost:8080/",
          "height": 256
        },
        "outputId": "5b3a1e46-8c2f-4849-ac20-45dc24782303"
      },
      "execution_count": 21,
      "outputs": [
        {
          "output_type": "execute_result",
          "data": {
            "text/plain": [
              "     match_id  previous_kills_avr_team_1_mean  previous_kills_avr_team_1_max  \\\n",
              "0  6947109699                        6.600000                           11.0   \n",
              "1  6947237459                        9.400000                           15.0   \n",
              "2  6947793080                        9.800000                           24.0   \n",
              "3  6947885612                        7.000000                           12.5   \n",
              "4  6947952638                        8.666667                           15.0   \n",
              "\n",
              "   previous_kills_avr_team_1_min  previous_hero_kills_avr_team_1_mean  \\\n",
              "0                            2.0                             6.600000   \n",
              "1                            3.0                             9.400000   \n",
              "2                            3.0                             9.800000   \n",
              "3                            2.5                             7.000000   \n",
              "4                            4.0                             8.666667   \n",
              "\n",
              "   previous_hero_kills_avr_team_1_max  previous_hero_kills_avr_team_1_min  \\\n",
              "0                                11.0                                 2.0   \n",
              "1                                15.0                                 3.0   \n",
              "2                                24.0                                 3.0   \n",
              "3                                12.5                                 2.5   \n",
              "4                                15.0                                 4.0   \n",
              "\n",
              "   previous_courier_kills_avr_team_1_mean  \\\n",
              "0                                0.000000   \n",
              "1                                0.600000   \n",
              "2                                0.400000   \n",
              "3                                0.200000   \n",
              "4                                0.133333   \n",
              "\n",
              "   previous_courier_kills_avr_team_1_max  \\\n",
              "0                               0.000000   \n",
              "1                               1.000000   \n",
              "2                               2.000000   \n",
              "3                               0.500000   \n",
              "4                               0.666667   \n",
              "\n",
              "   previous_courier_kills_avr_team_1_min  ...  previous_win_avr_team_2_mean  \\\n",
              "0                                    0.0  ...                      0.000000   \n",
              "1                                    0.0  ...                      0.000000   \n",
              "2                                    0.0  ...                      0.000000   \n",
              "3                                    0.0  ...                      1.000000   \n",
              "4                                    0.0  ...                      0.466667   \n",
              "\n",
              "   previous_win_avr_team_2_max  previous_win_avr_team_2_min  \\\n",
              "0                          0.0                     0.000000   \n",
              "1                          0.0                     0.000000   \n",
              "2                          0.0                     0.000000   \n",
              "3                          1.0                     1.000000   \n",
              "4                          1.0                     0.333333   \n",
              "\n",
              "   previous_duration_avr_team_2_mean  previous_duration_avr_team_2_max  \\\n",
              "0                          32.400000                         32.400000   \n",
              "1                          37.366667                         37.366667   \n",
              "2                          38.316667                         38.316667   \n",
              "3                          33.883333                         33.883333   \n",
              "4                          31.711111                         31.711111   \n",
              "\n",
              "   previous_duration_avr_team_2_min  \\\n",
              "0                         32.400000   \n",
              "1                         37.366667   \n",
              "2                         38.316667   \n",
              "3                         33.883333   \n",
              "4                         31.711111   \n",
              "\n",
              "   previous_first_blood_time_avr_team_2_mean  \\\n",
              "0                                   2.066667   \n",
              "1                                   0.866667   \n",
              "2                                   1.833333   \n",
              "3                                   1.791667   \n",
              "4                                   1.933333   \n",
              "\n",
              "   previous_first_blood_time_avr_team_2_max  \\\n",
              "0                                  2.066667   \n",
              "1                                  0.866667   \n",
              "2                                  1.833333   \n",
              "3                                  1.791667   \n",
              "4                                  1.933333   \n",
              "\n",
              "   previous_first_blood_time_avr_team_2_min  radiant_win  \n",
              "0                                  2.066667            1  \n",
              "1                                  0.866667            1  \n",
              "2                                  1.833333            1  \n",
              "3                                  1.791667            1  \n",
              "4                                  1.933333            0  \n",
              "\n",
              "[5 rows x 182 columns]"
            ],
            "text/html": [
              "\n",
              "  <div id=\"df-090aea7b-0179-4454-8b03-dbf739cdd1bf\" class=\"colab-df-container\">\n",
              "    <div>\n",
              "<style scoped>\n",
              "    .dataframe tbody tr th:only-of-type {\n",
              "        vertical-align: middle;\n",
              "    }\n",
              "\n",
              "    .dataframe tbody tr th {\n",
              "        vertical-align: top;\n",
              "    }\n",
              "\n",
              "    .dataframe thead th {\n",
              "        text-align: right;\n",
              "    }\n",
              "</style>\n",
              "<table border=\"1\" class=\"dataframe\">\n",
              "  <thead>\n",
              "    <tr style=\"text-align: right;\">\n",
              "      <th></th>\n",
              "      <th>match_id</th>\n",
              "      <th>previous_kills_avr_team_1_mean</th>\n",
              "      <th>previous_kills_avr_team_1_max</th>\n",
              "      <th>previous_kills_avr_team_1_min</th>\n",
              "      <th>previous_hero_kills_avr_team_1_mean</th>\n",
              "      <th>previous_hero_kills_avr_team_1_max</th>\n",
              "      <th>previous_hero_kills_avr_team_1_min</th>\n",
              "      <th>previous_courier_kills_avr_team_1_mean</th>\n",
              "      <th>previous_courier_kills_avr_team_1_max</th>\n",
              "      <th>previous_courier_kills_avr_team_1_min</th>\n",
              "      <th>...</th>\n",
              "      <th>previous_win_avr_team_2_mean</th>\n",
              "      <th>previous_win_avr_team_2_max</th>\n",
              "      <th>previous_win_avr_team_2_min</th>\n",
              "      <th>previous_duration_avr_team_2_mean</th>\n",
              "      <th>previous_duration_avr_team_2_max</th>\n",
              "      <th>previous_duration_avr_team_2_min</th>\n",
              "      <th>previous_first_blood_time_avr_team_2_mean</th>\n",
              "      <th>previous_first_blood_time_avr_team_2_max</th>\n",
              "      <th>previous_first_blood_time_avr_team_2_min</th>\n",
              "      <th>radiant_win</th>\n",
              "    </tr>\n",
              "  </thead>\n",
              "  <tbody>\n",
              "    <tr>\n",
              "      <th>0</th>\n",
              "      <td>6947109699</td>\n",
              "      <td>6.600000</td>\n",
              "      <td>11.0</td>\n",
              "      <td>2.0</td>\n",
              "      <td>6.600000</td>\n",
              "      <td>11.0</td>\n",
              "      <td>2.0</td>\n",
              "      <td>0.000000</td>\n",
              "      <td>0.000000</td>\n",
              "      <td>0.0</td>\n",
              "      <td>...</td>\n",
              "      <td>0.000000</td>\n",
              "      <td>0.0</td>\n",
              "      <td>0.000000</td>\n",
              "      <td>32.400000</td>\n",
              "      <td>32.400000</td>\n",
              "      <td>32.400000</td>\n",
              "      <td>2.066667</td>\n",
              "      <td>2.066667</td>\n",
              "      <td>2.066667</td>\n",
              "      <td>1</td>\n",
              "    </tr>\n",
              "    <tr>\n",
              "      <th>1</th>\n",
              "      <td>6947237459</td>\n",
              "      <td>9.400000</td>\n",
              "      <td>15.0</td>\n",
              "      <td>3.0</td>\n",
              "      <td>9.400000</td>\n",
              "      <td>15.0</td>\n",
              "      <td>3.0</td>\n",
              "      <td>0.600000</td>\n",
              "      <td>1.000000</td>\n",
              "      <td>0.0</td>\n",
              "      <td>...</td>\n",
              "      <td>0.000000</td>\n",
              "      <td>0.0</td>\n",
              "      <td>0.000000</td>\n",
              "      <td>37.366667</td>\n",
              "      <td>37.366667</td>\n",
              "      <td>37.366667</td>\n",
              "      <td>0.866667</td>\n",
              "      <td>0.866667</td>\n",
              "      <td>0.866667</td>\n",
              "      <td>1</td>\n",
              "    </tr>\n",
              "    <tr>\n",
              "      <th>2</th>\n",
              "      <td>6947793080</td>\n",
              "      <td>9.800000</td>\n",
              "      <td>24.0</td>\n",
              "      <td>3.0</td>\n",
              "      <td>9.800000</td>\n",
              "      <td>24.0</td>\n",
              "      <td>3.0</td>\n",
              "      <td>0.400000</td>\n",
              "      <td>2.000000</td>\n",
              "      <td>0.0</td>\n",
              "      <td>...</td>\n",
              "      <td>0.000000</td>\n",
              "      <td>0.0</td>\n",
              "      <td>0.000000</td>\n",
              "      <td>38.316667</td>\n",
              "      <td>38.316667</td>\n",
              "      <td>38.316667</td>\n",
              "      <td>1.833333</td>\n",
              "      <td>1.833333</td>\n",
              "      <td>1.833333</td>\n",
              "      <td>1</td>\n",
              "    </tr>\n",
              "    <tr>\n",
              "      <th>3</th>\n",
              "      <td>6947885612</td>\n",
              "      <td>7.000000</td>\n",
              "      <td>12.5</td>\n",
              "      <td>2.5</td>\n",
              "      <td>7.000000</td>\n",
              "      <td>12.5</td>\n",
              "      <td>2.5</td>\n",
              "      <td>0.200000</td>\n",
              "      <td>0.500000</td>\n",
              "      <td>0.0</td>\n",
              "      <td>...</td>\n",
              "      <td>1.000000</td>\n",
              "      <td>1.0</td>\n",
              "      <td>1.000000</td>\n",
              "      <td>33.883333</td>\n",
              "      <td>33.883333</td>\n",
              "      <td>33.883333</td>\n",
              "      <td>1.791667</td>\n",
              "      <td>1.791667</td>\n",
              "      <td>1.791667</td>\n",
              "      <td>1</td>\n",
              "    </tr>\n",
              "    <tr>\n",
              "      <th>4</th>\n",
              "      <td>6947952638</td>\n",
              "      <td>8.666667</td>\n",
              "      <td>15.0</td>\n",
              "      <td>4.0</td>\n",
              "      <td>8.666667</td>\n",
              "      <td>15.0</td>\n",
              "      <td>4.0</td>\n",
              "      <td>0.133333</td>\n",
              "      <td>0.666667</td>\n",
              "      <td>0.0</td>\n",
              "      <td>...</td>\n",
              "      <td>0.466667</td>\n",
              "      <td>1.0</td>\n",
              "      <td>0.333333</td>\n",
              "      <td>31.711111</td>\n",
              "      <td>31.711111</td>\n",
              "      <td>31.711111</td>\n",
              "      <td>1.933333</td>\n",
              "      <td>1.933333</td>\n",
              "      <td>1.933333</td>\n",
              "      <td>0</td>\n",
              "    </tr>\n",
              "  </tbody>\n",
              "</table>\n",
              "<p>5 rows × 182 columns</p>\n",
              "</div>\n",
              "    <div class=\"colab-df-buttons\">\n",
              "\n",
              "  <div class=\"colab-df-container\">\n",
              "    <button class=\"colab-df-convert\" onclick=\"convertToInteractive('df-090aea7b-0179-4454-8b03-dbf739cdd1bf')\"\n",
              "            title=\"Convert this dataframe to an interactive table.\"\n",
              "            style=\"display:none;\">\n",
              "\n",
              "  <svg xmlns=\"http://www.w3.org/2000/svg\" height=\"24px\" viewBox=\"0 -960 960 960\">\n",
              "    <path d=\"M120-120v-720h720v720H120Zm60-500h600v-160H180v160Zm220 220h160v-160H400v160Zm0 220h160v-160H400v160ZM180-400h160v-160H180v160Zm440 0h160v-160H620v160ZM180-180h160v-160H180v160Zm440 0h160v-160H620v160Z\"/>\n",
              "  </svg>\n",
              "    </button>\n",
              "\n",
              "  <style>\n",
              "    .colab-df-container {\n",
              "      display:flex;\n",
              "      gap: 12px;\n",
              "    }\n",
              "\n",
              "    .colab-df-convert {\n",
              "      background-color: #E8F0FE;\n",
              "      border: none;\n",
              "      border-radius: 50%;\n",
              "      cursor: pointer;\n",
              "      display: none;\n",
              "      fill: #1967D2;\n",
              "      height: 32px;\n",
              "      padding: 0 0 0 0;\n",
              "      width: 32px;\n",
              "    }\n",
              "\n",
              "    .colab-df-convert:hover {\n",
              "      background-color: #E2EBFA;\n",
              "      box-shadow: 0px 1px 2px rgba(60, 64, 67, 0.3), 0px 1px 3px 1px rgba(60, 64, 67, 0.15);\n",
              "      fill: #174EA6;\n",
              "    }\n",
              "\n",
              "    .colab-df-buttons div {\n",
              "      margin-bottom: 4px;\n",
              "    }\n",
              "\n",
              "    [theme=dark] .colab-df-convert {\n",
              "      background-color: #3B4455;\n",
              "      fill: #D2E3FC;\n",
              "    }\n",
              "\n",
              "    [theme=dark] .colab-df-convert:hover {\n",
              "      background-color: #434B5C;\n",
              "      box-shadow: 0px 1px 3px 1px rgba(0, 0, 0, 0.15);\n",
              "      filter: drop-shadow(0px 1px 2px rgba(0, 0, 0, 0.3));\n",
              "      fill: #FFFFFF;\n",
              "    }\n",
              "  </style>\n",
              "\n",
              "    <script>\n",
              "      const buttonEl =\n",
              "        document.querySelector('#df-090aea7b-0179-4454-8b03-dbf739cdd1bf button.colab-df-convert');\n",
              "      buttonEl.style.display =\n",
              "        google.colab.kernel.accessAllowed ? 'block' : 'none';\n",
              "\n",
              "      async function convertToInteractive(key) {\n",
              "        const element = document.querySelector('#df-090aea7b-0179-4454-8b03-dbf739cdd1bf');\n",
              "        const dataTable =\n",
              "          await google.colab.kernel.invokeFunction('convertToInteractive',\n",
              "                                                    [key], {});\n",
              "        if (!dataTable) return;\n",
              "\n",
              "        const docLinkHtml = 'Like what you see? Visit the ' +\n",
              "          '<a target=\"_blank\" href=https://colab.research.google.com/notebooks/data_table.ipynb>data table notebook</a>'\n",
              "          + ' to learn more about interactive tables.';\n",
              "        element.innerHTML = '';\n",
              "        dataTable['output_type'] = 'display_data';\n",
              "        await google.colab.output.renderOutput(dataTable, element);\n",
              "        const docLink = document.createElement('div');\n",
              "        docLink.innerHTML = docLinkHtml;\n",
              "        element.appendChild(docLink);\n",
              "      }\n",
              "    </script>\n",
              "  </div>\n",
              "\n",
              "\n",
              "<div id=\"df-7f7dbacb-5069-4c01-9d38-c0731267da10\">\n",
              "  <button class=\"colab-df-quickchart\" onclick=\"quickchart('df-7f7dbacb-5069-4c01-9d38-c0731267da10')\"\n",
              "            title=\"Suggest charts\"\n",
              "            style=\"display:none;\">\n",
              "\n",
              "<svg xmlns=\"http://www.w3.org/2000/svg\" height=\"24px\"viewBox=\"0 0 24 24\"\n",
              "     width=\"24px\">\n",
              "    <g>\n",
              "        <path d=\"M19 3H5c-1.1 0-2 .9-2 2v14c0 1.1.9 2 2 2h14c1.1 0 2-.9 2-2V5c0-1.1-.9-2-2-2zM9 17H7v-7h2v7zm4 0h-2V7h2v10zm4 0h-2v-4h2v4z\"/>\n",
              "    </g>\n",
              "</svg>\n",
              "  </button>\n",
              "\n",
              "<style>\n",
              "  .colab-df-quickchart {\n",
              "      --bg-color: #E8F0FE;\n",
              "      --fill-color: #1967D2;\n",
              "      --hover-bg-color: #E2EBFA;\n",
              "      --hover-fill-color: #174EA6;\n",
              "      --disabled-fill-color: #AAA;\n",
              "      --disabled-bg-color: #DDD;\n",
              "  }\n",
              "\n",
              "  [theme=dark] .colab-df-quickchart {\n",
              "      --bg-color: #3B4455;\n",
              "      --fill-color: #D2E3FC;\n",
              "      --hover-bg-color: #434B5C;\n",
              "      --hover-fill-color: #FFFFFF;\n",
              "      --disabled-bg-color: #3B4455;\n",
              "      --disabled-fill-color: #666;\n",
              "  }\n",
              "\n",
              "  .colab-df-quickchart {\n",
              "    background-color: var(--bg-color);\n",
              "    border: none;\n",
              "    border-radius: 50%;\n",
              "    cursor: pointer;\n",
              "    display: none;\n",
              "    fill: var(--fill-color);\n",
              "    height: 32px;\n",
              "    padding: 0;\n",
              "    width: 32px;\n",
              "  }\n",
              "\n",
              "  .colab-df-quickchart:hover {\n",
              "    background-color: var(--hover-bg-color);\n",
              "    box-shadow: 0 1px 2px rgba(60, 64, 67, 0.3), 0 1px 3px 1px rgba(60, 64, 67, 0.15);\n",
              "    fill: var(--button-hover-fill-color);\n",
              "  }\n",
              "\n",
              "  .colab-df-quickchart-complete:disabled,\n",
              "  .colab-df-quickchart-complete:disabled:hover {\n",
              "    background-color: var(--disabled-bg-color);\n",
              "    fill: var(--disabled-fill-color);\n",
              "    box-shadow: none;\n",
              "  }\n",
              "\n",
              "  .colab-df-spinner {\n",
              "    border: 2px solid var(--fill-color);\n",
              "    border-color: transparent;\n",
              "    border-bottom-color: var(--fill-color);\n",
              "    animation:\n",
              "      spin 1s steps(1) infinite;\n",
              "  }\n",
              "\n",
              "  @keyframes spin {\n",
              "    0% {\n",
              "      border-color: transparent;\n",
              "      border-bottom-color: var(--fill-color);\n",
              "      border-left-color: var(--fill-color);\n",
              "    }\n",
              "    20% {\n",
              "      border-color: transparent;\n",
              "      border-left-color: var(--fill-color);\n",
              "      border-top-color: var(--fill-color);\n",
              "    }\n",
              "    30% {\n",
              "      border-color: transparent;\n",
              "      border-left-color: var(--fill-color);\n",
              "      border-top-color: var(--fill-color);\n",
              "      border-right-color: var(--fill-color);\n",
              "    }\n",
              "    40% {\n",
              "      border-color: transparent;\n",
              "      border-right-color: var(--fill-color);\n",
              "      border-top-color: var(--fill-color);\n",
              "    }\n",
              "    60% {\n",
              "      border-color: transparent;\n",
              "      border-right-color: var(--fill-color);\n",
              "    }\n",
              "    80% {\n",
              "      border-color: transparent;\n",
              "      border-right-color: var(--fill-color);\n",
              "      border-bottom-color: var(--fill-color);\n",
              "    }\n",
              "    90% {\n",
              "      border-color: transparent;\n",
              "      border-bottom-color: var(--fill-color);\n",
              "    }\n",
              "  }\n",
              "</style>\n",
              "\n",
              "  <script>\n",
              "    async function quickchart(key) {\n",
              "      const quickchartButtonEl =\n",
              "        document.querySelector('#' + key + ' button');\n",
              "      quickchartButtonEl.disabled = true;  // To prevent multiple clicks.\n",
              "      quickchartButtonEl.classList.add('colab-df-spinner');\n",
              "      try {\n",
              "        const charts = await google.colab.kernel.invokeFunction(\n",
              "            'suggestCharts', [key], {});\n",
              "      } catch (error) {\n",
              "        console.error('Error during call to suggestCharts:', error);\n",
              "      }\n",
              "      quickchartButtonEl.classList.remove('colab-df-spinner');\n",
              "      quickchartButtonEl.classList.add('colab-df-quickchart-complete');\n",
              "    }\n",
              "    (() => {\n",
              "      let quickchartButtonEl =\n",
              "        document.querySelector('#df-7f7dbacb-5069-4c01-9d38-c0731267da10 button');\n",
              "      quickchartButtonEl.style.display =\n",
              "        google.colab.kernel.accessAllowed ? 'block' : 'none';\n",
              "    })();\n",
              "  </script>\n",
              "</div>\n",
              "    </div>\n",
              "  </div>\n"
            ],
            "application/vnd.google.colaboratory.intrinsic+json": {
              "type": "dataframe",
              "variable_name": "df_team_cleaned"
            }
          },
          "metadata": {},
          "execution_count": 21
        }
      ]
    },
    {
      "cell_type": "code",
      "source": [
        "df_team_cleaned.shape"
      ],
      "metadata": {
        "colab": {
          "base_uri": "https://localhost:8080/"
        },
        "id": "0P1WgbBO6k0z",
        "outputId": "eea382e1-a8a7-4444-c48d-f9fb7c270ac7"
      },
      "execution_count": 55,
      "outputs": [
        {
          "output_type": "execute_result",
          "data": {
            "text/plain": [
              "(52293, 182)"
            ]
          },
          "metadata": {},
          "execution_count": 55
        }
      ]
    },
    {
      "cell_type": "code",
      "source": [
        "df_team_cleaned.memory_usage(deep=True).sum() / 1024 / 1024 # Mb"
      ],
      "metadata": {
        "colab": {
          "base_uri": "https://localhost:8080/"
        },
        "id": "FxD95PMaZmi6",
        "outputId": "4d1fc89b-898b-4ed6-944f-315038b5c0cf"
      },
      "execution_count": 22,
      "outputs": [
        {
          "output_type": "execute_result",
          "data": {
            "text/plain": [
              "72.61155700683594"
            ]
          },
          "metadata": {},
          "execution_count": 22
        }
      ]
    },
    {
      "cell_type": "code",
      "source": [
        "fcols = df_team_cleaned.select_dtypes('float').columns\n",
        "icols = df_team_cleaned.select_dtypes('integer').columns\n",
        "\n",
        "df_team_cleaned[fcols] = df_team_cleaned[fcols].apply(pd.to_numeric, downcast='float')\n",
        "df_team_cleaned[icols] = df_team_cleaned[icols].apply(pd.to_numeric, downcast='integer')"
      ],
      "metadata": {
        "id": "svURXY68ZmmC"
      },
      "execution_count": 23,
      "outputs": []
    },
    {
      "cell_type": "code",
      "source": [
        "df_team_cleaned.memory_usage(deep=True).sum() / 1024 / 1024 # Mb"
      ],
      "metadata": {
        "colab": {
          "base_uri": "https://localhost:8080/"
        },
        "id": "ka3KkIYVZmos",
        "outputId": "c48872a4-6073-4282-8b21-2fa462cbd4c0"
      },
      "execution_count": 24,
      "outputs": [
        {
          "output_type": "execute_result",
          "data": {
            "text/plain": [
              "42.73913288116455"
            ]
          },
          "metadata": {},
          "execution_count": 24
        }
      ]
    },
    {
      "cell_type": "code",
      "execution_count": 25,
      "metadata": {
        "id": "N8Mtjp_rE6V1"
      },
      "outputs": [],
      "source": [
        "y = df_team_cleaned['radiant_win']\n",
        "X = df_team_cleaned.drop(columns=['radiant_win', 'match_id'])"
      ]
    },
    {
      "cell_type": "code",
      "execution_count": 26,
      "metadata": {
        "id": "igJXo9O_FLeO"
      },
      "outputs": [],
      "source": [
        "from sklearn.model_selection import train_test_split\n",
        "\n",
        "X_train, X_test, y_train, y_test = train_test_split(X, y, test_size=0.25, random_state = 42)"
      ]
    },
    {
      "cell_type": "code",
      "source": [
        "from sklearn.linear_model import LogisticRegression\n",
        "from sklearn.pipeline import Pipeline\n",
        "from sklearn.metrics import accuracy_score, precision_score, recall_score, f1_score, roc_auc_score\n",
        "from sklearn.preprocessing import StandardScaler"
      ],
      "metadata": {
        "id": "vzv4ZZlqOo3h"
      },
      "execution_count": 27,
      "outputs": []
    },
    {
      "cell_type": "code",
      "source": [
        "metrics_df = pd.DataFrame(columns=[\"Model\", \"Accuracy\", \"Precision\", \"Recall\", \"F1 Score\", \"ROC-AUC\"])"
      ],
      "metadata": {
        "id": "4d_S-UKaoCR9"
      },
      "execution_count": null,
      "outputs": []
    },
    {
      "cell_type": "code",
      "source": [
        "def evaluate_model(y_test, predictions, X_test, model, model_name):\n",
        "    global metrics_df\n",
        "    accuracy = accuracy_score(y_test, predictions)\n",
        "    precision = precision_score(y_test, predictions)\n",
        "    recall = recall_score(y_test, predictions)\n",
        "    f1 = f1_score(y_test, predictions)\n",
        "    try:\n",
        "        roc_auc = roc_auc_score(y_test, model.predict_proba(X_test)[:, 1])  # Для AUC-ROC используем predict_proba\n",
        "    except ValueError:\n",
        "        roc_auc = 0.5\n",
        "    print(f\"Metrics for {model_name}:\")\n",
        "    print(f\"Accuracy: {round(accuracy, 3)}\")\n",
        "    print(f\"Precision: {round(precision, 3)}\")\n",
        "    print(f\"Recall: {round(recall, 3)}\")\n",
        "    print(f\"F1 Score: {round(f1, 3)}\")\n",
        "    print(f\"ROC-AUC: {round(roc_auc, 3)}\")\n",
        "\n",
        "    new_metrics = pd.DataFrame([[model_name, round(accuracy, 3), round(precision, 3),\n",
        "                                 round(recall, 3), round(f1, 3), round(roc_auc, 3)]],\n",
        "                                columns=metrics_df.columns)\n",
        "\n",
        "    metrics_df = pd.concat([metrics_df, new_metrics], ignore_index=True)\n"
      ],
      "metadata": {
        "id": "iPuu2OpEgN25"
      },
      "execution_count": 68,
      "outputs": []
    },
    {
      "cell_type": "code",
      "source": [
        "# Бейзлайн модель. Увеличила количество интераций для сходимости\n",
        "pipeline = Pipeline([\n",
        "    ('scaler_', StandardScaler()),\n",
        "    ('model_', LogisticRegression(max_iter=500))\n",
        "    ])\n",
        "\n",
        "# Обучение пайплайна\n",
        "pipeline.fit(X_train, y_train)\n",
        "\n",
        "# Прогнозирование на тестовой выборке\n",
        "predictions = pipeline.predict(X_test)\n",
        "\n",
        "baseline_metrics = evaluate_model(y_test, predictions, X_test, pipeline, 'baseline')\n",
        "baseline_metrics"
      ],
      "metadata": {
        "colab": {
          "base_uri": "https://localhost:8080/"
        },
        "id": "DoZo41uhcRfA",
        "outputId": "9ba580d3-0081-4e5a-f0a9-d6cc8e08875e"
      },
      "execution_count": 42,
      "outputs": [
        {
          "output_type": "stream",
          "name": "stdout",
          "text": [
            "Metrics for baseline:\n",
            "Accuracy: 0.592\n",
            "Precision: 0.596\n",
            "Recall: 0.604\n",
            "F1 Score: 0.6\n",
            "ROC-AUC: 0.638\n"
          ]
        }
      ]
    },
    {
      "cell_type": "code",
      "source": [
        "param_distributions = {\n",
        "    'model__C': np.logspace(-5, 5, 11),\n",
        "    'model__penalty': ['l1', 'l2', 'none'],\n",
        "    'model__solver': ['liblinear', 'saga'],\n",
        "    'model__max_iter': [100, 500, 1000, 5000]\n",
        "}\n",
        "\n",
        "pipeline = Pipeline([\n",
        "    ('scaler', StandardScaler()),\n",
        "    ('model', LogisticRegression())\n",
        "])\n",
        "\n",
        "random_search = RandomizedSearchCV(pipeline, param_distributions, n_iter=10, cv=5, scoring='accuracy', random_state=42, n_jobs=-1, verbose=1)\n",
        "random_search.fit(X_train, y_train)\n",
        "\n",
        "# Выводим лучшие параметры и наилучший результат\n",
        "print(\"Best parameters for Logistic Regression:\", random_search.best_params_)\n",
        "print(\"Best accuracy:\", random_search.best_score_)\n",
        "\n",
        "# Проверьте, какой параметр C был выбран для наилучшей модели\n",
        "best_C = random_search.best_params_['model__C']\n",
        "best_penalty = random_search.best_params_['model__penalty']\n",
        "\n",
        "print(f\"Best C: {best_C}, Best penalty: {best_penalty}\")"
      ],
      "metadata": {
        "colab": {
          "base_uri": "https://localhost:8080/"
        },
        "id": "bKpxFRbX1e79",
        "outputId": "1330334b-33bd-49d8-fdc9-6d832dd980d6"
      },
      "execution_count": 87,
      "outputs": [
        {
          "output_type": "stream",
          "name": "stdout",
          "text": [
            "Fitting 5 folds for each of 10 candidates, totalling 50 fits\n",
            "Best parameters for Logistic Regression: {'model__solver': 'saga', 'model__penalty': 'l1', 'model__max_iter': 500, 'model__C': 100000.0}\n",
            "Best accuracy: 0.584793275060284\n",
            "Best C: 100000.0, Best penalty: l1\n"
          ]
        }
      ]
    },
    {
      "cell_type": "code",
      "source": [
        "best_model = random_search.best_estimator_\n",
        "predictions = best_model.predict(X_test)\n",
        "logistic_metrics = evaluate_model(y_test, predictions, X_test, best_model, 'logistic')\n",
        "logistic_metrics"
      ],
      "metadata": {
        "colab": {
          "base_uri": "https://localhost:8080/"
        },
        "id": "6De_xSvl_-vW",
        "outputId": "0f2473cc-5925-4c23-e5d9-20ec4caa055e"
      },
      "execution_count": 88,
      "outputs": [
        {
          "output_type": "stream",
          "name": "stdout",
          "text": [
            "Metrics for logistic:\n",
            "Accuracy: 0.592\n",
            "Precision: 0.596\n",
            "Recall: 0.604\n",
            "F1 Score: 0.6\n",
            "ROC-AUC: 0.638\n"
          ]
        }
      ]
    },
    {
      "cell_type": "markdown",
      "source": [
        "Подбор гиперпараметров не изменил качество модели. Большое значение C указывает на то, что регуляризация в модели не нужна.\n",
        "\n",
        "\n"
      ],
      "metadata": {
        "id": "P0wte4R7AqDB"
      }
    },
    {
      "cell_type": "markdown",
      "source": [
        "Попробуем обучить модель только на колонках с mean. Использование только средних значений может улучшить модель, если вариативность данных не имеет решающего значения для предсказания, или в том случае, когда данные имеют устойчивые закономерности. Использование только mean упростит сложность обучения из-за уменьшения количества признаков."
      ],
      "metadata": {
        "id": "raxFn8nLPCJU"
      }
    },
    {
      "cell_type": "code",
      "execution_count": 46,
      "metadata": {
        "id": "qJiqYvFHNyaS"
      },
      "outputs": [],
      "source": [
        "df_mean = df_team_cleaned.loc[:, df_team_cleaned.columns.str.contains('mean|radiant_win')]"
      ]
    },
    {
      "cell_type": "code",
      "execution_count": 47,
      "metadata": {
        "id": "Pdo9bC3ANyaU"
      },
      "outputs": [],
      "source": [
        "y = df_mean['radiant_win']\n",
        "X = df_mean.drop(columns=['radiant_win'])\n",
        "\n",
        "X_train, X_test, y_train, y_test = train_test_split(X, y, test_size=0.25, random_state = 42)"
      ]
    },
    {
      "cell_type": "code",
      "execution_count": 48,
      "metadata": {
        "colab": {
          "base_uri": "https://localhost:8080/"
        },
        "outputId": "1e65a8ce-e1bc-43ad-d8a5-3161c7990ffc",
        "id": "QsA-6j6YQQG6"
      },
      "outputs": [
        {
          "output_type": "stream",
          "name": "stdout",
          "text": [
            "Лучшие гиперпараметры: {'model__solver': 'liblinear', 'model__penalty': 'l2', 'model__max_iter': 500, 'model__C': 1}\n"
          ]
        }
      ],
      "source": [
        "# Модель на средних\n",
        "pipeline = Pipeline([\n",
        "    ('scaler', StandardScaler()),\n",
        "    ('model', LogisticRegression())])\n",
        "\n",
        "param_distributions = {\n",
        "    'model__C': [0.01, 1, 0.1, 100],\n",
        "    'model__penalty': ['l1', 'l2'],\n",
        "    'model__solver': ['liblinear', 'saga'],\n",
        "    'model__max_iter': [100, 500, 5000]\n",
        "}\n",
        "\n",
        "random_search = RandomizedSearchCV(pipeline, param_distributions, n_iter=10, cv=3, n_jobs=-1)\n",
        "\n",
        "random_search.fit(X_train, y_train)\n",
        "\n",
        "print(f\"Лучшие гиперпараметры: {random_search.best_params_}\")"
      ]
    },
    {
      "cell_type": "code",
      "source": [
        "best_model = random_search.best_estimator_\n",
        "predictions = best_model.predict(X_test)\n",
        "logistic_mean_metrics = evaluate_model(y_test, predictions, X_test, best_model, 'logistic_mean')\n",
        "logistic_mean_metrics"
      ],
      "metadata": {
        "colab": {
          "base_uri": "https://localhost:8080/"
        },
        "outputId": "0205f15f-caca-4cc0-bd36-07024930921f",
        "id": "dAEEzcJbQQG6"
      },
      "execution_count": 50,
      "outputs": [
        {
          "output_type": "stream",
          "name": "stdout",
          "text": [
            "Metrics for logistic_mean:\n",
            "Accuracy: 0.596\n",
            "Precision: 0.6\n",
            "Recall: 0.607\n",
            "F1 Score: 0.603\n",
            "ROC-AUC: 0.639\n"
          ]
        }
      ]
    },
    {
      "cell_type": "markdown",
      "source": [
        "Модель только на средних превосходит модель на всех данных по всем метрикам. Это означает, что модель на средних имеет более высокую точность, полноту и сбалансированную метрику F1, что делает ее более эффективной в задаче предсказания победы команды Radiant. Однако различия в этих метриках невелики, и обе модели имеют схожее качество."
      ],
      "metadata": {
        "id": "XgPSlvuyTarW"
      }
    },
    {
      "cell_type": "markdown",
      "source": [
        "Рассмотрим другие модели\n",
        "\n",
        "\n",
        "\n"
      ],
      "metadata": {
        "id": "1F7eMwGkXoz3"
      }
    },
    {
      "cell_type": "code",
      "source": [
        "y = df_team_cleaned['radiant_win']\n",
        "X = df_team_cleaned.drop(columns=['radiant_win', 'match_id'])\n",
        "X_train, X_test, y_train, y_test = train_test_split(X, y, test_size=0.25, random_state = 42)"
      ],
      "metadata": {
        "id": "doJJO42pZNfI"
      },
      "execution_count": 53,
      "outputs": []
    },
    {
      "cell_type": "code",
      "source": [
        "# SVM\n",
        "from sklearn.svm import SVC\n",
        "\n",
        "pipeline = Pipeline([\n",
        "    ('scaler', StandardScaler()),\n",
        "    ('model', SVC(probability=True))\n",
        "])\n",
        "\n",
        "pipeline.fit(X_train, y_train)\n",
        "\n",
        "prediction = pipeline.predict(X_test)\n",
        "pred_prob = pipeline.predict_proba(X_test)[:, 1]  # Вероятности для положительного класса\n",
        "svm_metrics = evaluate_model(y_test, predictions, X_test, pipeline, 'svm')\n",
        "svm_metrics"
      ],
      "metadata": {
        "colab": {
          "base_uri": "https://localhost:8080/"
        },
        "outputId": "65849213-7f5c-4acf-a2b4-4de729c74058",
        "id": "LS5hxdbM5dde"
      },
      "execution_count": 67,
      "outputs": [
        {
          "output_type": "stream",
          "name": "stdout",
          "text": [
            "Metrics for svm:\n",
            "Accuracy: 0.504\n",
            "Precision: 0.505\n",
            "Recall: 0.966\n",
            "F1 Score: 0.664\n",
            "ROC-AUC: 0.637\n"
          ]
        }
      ]
    },
    {
      "cell_type": "markdown",
      "source": [
        "Метрики указывают на то, что модель svm на данных склонна к переобучению на положительный класс, что подтверждается высокой полнотой и низкой точностью.\n"
      ],
      "metadata": {
        "id": "SVmFPySfjub0"
      }
    },
    {
      "cell_type": "code",
      "source": [
        "import numpy as np\n",
        "from sklearn.discriminant_analysis import LinearDiscriminantAnalysis\n",
        "# Подбор гиперпараметров LDA\n",
        "param_distributions = {\n",
        "    'model__solver': ['lsqr', 'eigen', 'svd'],\n",
        "    'model__priors': [None, 'uniform'],\n",
        "    'model__n_components': np.arange(1, 4),\n",
        "}\n",
        "\n",
        "lda_pipeline = Pipeline([\n",
        "    ('scaler', StandardScaler()),\n",
        "    ('model', LinearDiscriminantAnalysis())\n",
        "])\n",
        "\n",
        "random_search_lda = RandomizedSearchCV(lda_pipeline, param_distributions, n_iter=10, cv=5, scoring='accuracy', random_state=42)\n",
        "random_search_lda.fit(X_train, y_train)\n",
        "\n",
        "# Лучшие параметры\n",
        "print(\"Best parameters for LDA:\", random_search_lda.best_params_)"
      ],
      "metadata": {
        "colab": {
          "base_uri": "https://localhost:8080/"
        },
        "id": "tJNuZKINqtD2",
        "outputId": "41e327ab-9f4e-453f-d43f-539830ae0288"
      },
      "execution_count": 73,
      "outputs": [
        {
          "output_type": "stream",
          "name": "stdout",
          "text": [
            "Best parameters for LDA: {'model__solver': 'lsqr', 'model__priors': None, 'model__n_components': 1}\n"
          ]
        }
      ]
    },
    {
      "cell_type": "code",
      "source": [
        "best_model = random_search_lda.best_estimator_\n",
        "predictions = best_model.predict(X_test)\n",
        "LDA_metrics = evaluate_model(y_test, predictions, X_test, best_model, 'LDA')\n",
        "LDA_metrics"
      ],
      "metadata": {
        "colab": {
          "base_uri": "https://localhost:8080/"
        },
        "id": "IYo9PUW9rVXa",
        "outputId": "d19c29a9-9ac6-4052-a184-0134554ccee8"
      },
      "execution_count": 77,
      "outputs": [
        {
          "output_type": "stream",
          "name": "stdout",
          "text": [
            "Metrics for LDA:\n",
            "Accuracy: 0.59\n",
            "Precision: 0.594\n",
            "Recall: 0.602\n",
            "F1 Score: 0.598\n",
            "ROC-AUC: 0.638\n"
          ]
        }
      ]
    },
    {
      "cell_type": "code",
      "source": [
        "# Наивный байесовский классификатор\n",
        "from sklearn.naive_bayes import GaussianNB\n",
        "\n",
        "nb_pipeline = Pipeline([\n",
        "    ('scaler', StandardScaler()),\n",
        "    ('model', GaussianNB())\n",
        "])\n",
        "\n",
        "nb_pipeline.fit(X_train, y_train)\n",
        "nb_predictions = nb_pipeline.predict(X_test)\n",
        "\n",
        "nb_metrics = evaluate_model(y_test, nb_predictions, X_test, nb_pipeline, 'Naive Bayes')\n",
        "nb_metrics"
      ],
      "metadata": {
        "colab": {
          "base_uri": "https://localhost:8080/"
        },
        "id": "kxQJTdmkng7B",
        "outputId": "beba54de-5b71-4a6d-e38d-71cd5a82f9da"
      },
      "execution_count": 83,
      "outputs": [
        {
          "output_type": "stream",
          "name": "stdout",
          "text": [
            "Metrics for Naive Bayes:\n",
            "Accuracy: 0.557\n",
            "Precision: 0.611\n",
            "Recall: 0.344\n",
            "F1 Score: 0.441\n",
            "ROC-AUC: 0.6\n"
          ]
        }
      ]
    },
    {
      "cell_type": "code",
      "source": [
        "metrics_df"
      ],
      "metadata": {
        "colab": {
          "base_uri": "https://localhost:8080/",
          "height": 206
        },
        "id": "eMu96PLFxcIK",
        "outputId": "706632dd-6b3b-4c62-e0c9-10ca33c12462"
      },
      "execution_count": 86,
      "outputs": [
        {
          "output_type": "execute_result",
          "data": {
            "text/plain": [
              "           Model  Accuracy  Precision  Recall  F1 Score  ROC-AUC\n",
              "0       baseline     0.592      0.596   0.604     0.600    0.638\n",
              "2  logistic_mean     0.596      0.600   0.607     0.603    0.639\n",
              "3            svm     0.504      0.505   0.966     0.664    0.637\n",
              "4            LDA     0.590      0.594   0.602     0.598    0.638\n",
              "5    Naive Bayes     0.557      0.611   0.344     0.441    0.600"
            ],
            "text/html": [
              "\n",
              "  <div id=\"df-c43481bb-0d99-41e1-a744-88f2bdda1610\" class=\"colab-df-container\">\n",
              "    <div>\n",
              "<style scoped>\n",
              "    .dataframe tbody tr th:only-of-type {\n",
              "        vertical-align: middle;\n",
              "    }\n",
              "\n",
              "    .dataframe tbody tr th {\n",
              "        vertical-align: top;\n",
              "    }\n",
              "\n",
              "    .dataframe thead th {\n",
              "        text-align: right;\n",
              "    }\n",
              "</style>\n",
              "<table border=\"1\" class=\"dataframe\">\n",
              "  <thead>\n",
              "    <tr style=\"text-align: right;\">\n",
              "      <th></th>\n",
              "      <th>Model</th>\n",
              "      <th>Accuracy</th>\n",
              "      <th>Precision</th>\n",
              "      <th>Recall</th>\n",
              "      <th>F1 Score</th>\n",
              "      <th>ROC-AUC</th>\n",
              "    </tr>\n",
              "  </thead>\n",
              "  <tbody>\n",
              "    <tr>\n",
              "      <th>0</th>\n",
              "      <td>baseline</td>\n",
              "      <td>0.592</td>\n",
              "      <td>0.596</td>\n",
              "      <td>0.604</td>\n",
              "      <td>0.600</td>\n",
              "      <td>0.638</td>\n",
              "    </tr>\n",
              "    <tr>\n",
              "      <th>2</th>\n",
              "      <td>logistic_mean</td>\n",
              "      <td>0.596</td>\n",
              "      <td>0.600</td>\n",
              "      <td>0.607</td>\n",
              "      <td>0.603</td>\n",
              "      <td>0.639</td>\n",
              "    </tr>\n",
              "    <tr>\n",
              "      <th>3</th>\n",
              "      <td>svm</td>\n",
              "      <td>0.504</td>\n",
              "      <td>0.505</td>\n",
              "      <td>0.966</td>\n",
              "      <td>0.664</td>\n",
              "      <td>0.637</td>\n",
              "    </tr>\n",
              "    <tr>\n",
              "      <th>4</th>\n",
              "      <td>LDA</td>\n",
              "      <td>0.590</td>\n",
              "      <td>0.594</td>\n",
              "      <td>0.602</td>\n",
              "      <td>0.598</td>\n",
              "      <td>0.638</td>\n",
              "    </tr>\n",
              "    <tr>\n",
              "      <th>5</th>\n",
              "      <td>Naive Bayes</td>\n",
              "      <td>0.557</td>\n",
              "      <td>0.611</td>\n",
              "      <td>0.344</td>\n",
              "      <td>0.441</td>\n",
              "      <td>0.600</td>\n",
              "    </tr>\n",
              "  </tbody>\n",
              "</table>\n",
              "</div>\n",
              "    <div class=\"colab-df-buttons\">\n",
              "\n",
              "  <div class=\"colab-df-container\">\n",
              "    <button class=\"colab-df-convert\" onclick=\"convertToInteractive('df-c43481bb-0d99-41e1-a744-88f2bdda1610')\"\n",
              "            title=\"Convert this dataframe to an interactive table.\"\n",
              "            style=\"display:none;\">\n",
              "\n",
              "  <svg xmlns=\"http://www.w3.org/2000/svg\" height=\"24px\" viewBox=\"0 -960 960 960\">\n",
              "    <path d=\"M120-120v-720h720v720H120Zm60-500h600v-160H180v160Zm220 220h160v-160H400v160Zm0 220h160v-160H400v160ZM180-400h160v-160H180v160Zm440 0h160v-160H620v160ZM180-180h160v-160H180v160Zm440 0h160v-160H620v160Z\"/>\n",
              "  </svg>\n",
              "    </button>\n",
              "\n",
              "  <style>\n",
              "    .colab-df-container {\n",
              "      display:flex;\n",
              "      gap: 12px;\n",
              "    }\n",
              "\n",
              "    .colab-df-convert {\n",
              "      background-color: #E8F0FE;\n",
              "      border: none;\n",
              "      border-radius: 50%;\n",
              "      cursor: pointer;\n",
              "      display: none;\n",
              "      fill: #1967D2;\n",
              "      height: 32px;\n",
              "      padding: 0 0 0 0;\n",
              "      width: 32px;\n",
              "    }\n",
              "\n",
              "    .colab-df-convert:hover {\n",
              "      background-color: #E2EBFA;\n",
              "      box-shadow: 0px 1px 2px rgba(60, 64, 67, 0.3), 0px 1px 3px 1px rgba(60, 64, 67, 0.15);\n",
              "      fill: #174EA6;\n",
              "    }\n",
              "\n",
              "    .colab-df-buttons div {\n",
              "      margin-bottom: 4px;\n",
              "    }\n",
              "\n",
              "    [theme=dark] .colab-df-convert {\n",
              "      background-color: #3B4455;\n",
              "      fill: #D2E3FC;\n",
              "    }\n",
              "\n",
              "    [theme=dark] .colab-df-convert:hover {\n",
              "      background-color: #434B5C;\n",
              "      box-shadow: 0px 1px 3px 1px rgba(0, 0, 0, 0.15);\n",
              "      filter: drop-shadow(0px 1px 2px rgba(0, 0, 0, 0.3));\n",
              "      fill: #FFFFFF;\n",
              "    }\n",
              "  </style>\n",
              "\n",
              "    <script>\n",
              "      const buttonEl =\n",
              "        document.querySelector('#df-c43481bb-0d99-41e1-a744-88f2bdda1610 button.colab-df-convert');\n",
              "      buttonEl.style.display =\n",
              "        google.colab.kernel.accessAllowed ? 'block' : 'none';\n",
              "\n",
              "      async function convertToInteractive(key) {\n",
              "        const element = document.querySelector('#df-c43481bb-0d99-41e1-a744-88f2bdda1610');\n",
              "        const dataTable =\n",
              "          await google.colab.kernel.invokeFunction('convertToInteractive',\n",
              "                                                    [key], {});\n",
              "        if (!dataTable) return;\n",
              "\n",
              "        const docLinkHtml = 'Like what you see? Visit the ' +\n",
              "          '<a target=\"_blank\" href=https://colab.research.google.com/notebooks/data_table.ipynb>data table notebook</a>'\n",
              "          + ' to learn more about interactive tables.';\n",
              "        element.innerHTML = '';\n",
              "        dataTable['output_type'] = 'display_data';\n",
              "        await google.colab.output.renderOutput(dataTable, element);\n",
              "        const docLink = document.createElement('div');\n",
              "        docLink.innerHTML = docLinkHtml;\n",
              "        element.appendChild(docLink);\n",
              "      }\n",
              "    </script>\n",
              "  </div>\n",
              "\n",
              "\n",
              "<div id=\"df-9c969f23-a1f9-47bf-ae91-208e7ff59659\">\n",
              "  <button class=\"colab-df-quickchart\" onclick=\"quickchart('df-9c969f23-a1f9-47bf-ae91-208e7ff59659')\"\n",
              "            title=\"Suggest charts\"\n",
              "            style=\"display:none;\">\n",
              "\n",
              "<svg xmlns=\"http://www.w3.org/2000/svg\" height=\"24px\"viewBox=\"0 0 24 24\"\n",
              "     width=\"24px\">\n",
              "    <g>\n",
              "        <path d=\"M19 3H5c-1.1 0-2 .9-2 2v14c0 1.1.9 2 2 2h14c1.1 0 2-.9 2-2V5c0-1.1-.9-2-2-2zM9 17H7v-7h2v7zm4 0h-2V7h2v10zm4 0h-2v-4h2v4z\"/>\n",
              "    </g>\n",
              "</svg>\n",
              "  </button>\n",
              "\n",
              "<style>\n",
              "  .colab-df-quickchart {\n",
              "      --bg-color: #E8F0FE;\n",
              "      --fill-color: #1967D2;\n",
              "      --hover-bg-color: #E2EBFA;\n",
              "      --hover-fill-color: #174EA6;\n",
              "      --disabled-fill-color: #AAA;\n",
              "      --disabled-bg-color: #DDD;\n",
              "  }\n",
              "\n",
              "  [theme=dark] .colab-df-quickchart {\n",
              "      --bg-color: #3B4455;\n",
              "      --fill-color: #D2E3FC;\n",
              "      --hover-bg-color: #434B5C;\n",
              "      --hover-fill-color: #FFFFFF;\n",
              "      --disabled-bg-color: #3B4455;\n",
              "      --disabled-fill-color: #666;\n",
              "  }\n",
              "\n",
              "  .colab-df-quickchart {\n",
              "    background-color: var(--bg-color);\n",
              "    border: none;\n",
              "    border-radius: 50%;\n",
              "    cursor: pointer;\n",
              "    display: none;\n",
              "    fill: var(--fill-color);\n",
              "    height: 32px;\n",
              "    padding: 0;\n",
              "    width: 32px;\n",
              "  }\n",
              "\n",
              "  .colab-df-quickchart:hover {\n",
              "    background-color: var(--hover-bg-color);\n",
              "    box-shadow: 0 1px 2px rgba(60, 64, 67, 0.3), 0 1px 3px 1px rgba(60, 64, 67, 0.15);\n",
              "    fill: var(--button-hover-fill-color);\n",
              "  }\n",
              "\n",
              "  .colab-df-quickchart-complete:disabled,\n",
              "  .colab-df-quickchart-complete:disabled:hover {\n",
              "    background-color: var(--disabled-bg-color);\n",
              "    fill: var(--disabled-fill-color);\n",
              "    box-shadow: none;\n",
              "  }\n",
              "\n",
              "  .colab-df-spinner {\n",
              "    border: 2px solid var(--fill-color);\n",
              "    border-color: transparent;\n",
              "    border-bottom-color: var(--fill-color);\n",
              "    animation:\n",
              "      spin 1s steps(1) infinite;\n",
              "  }\n",
              "\n",
              "  @keyframes spin {\n",
              "    0% {\n",
              "      border-color: transparent;\n",
              "      border-bottom-color: var(--fill-color);\n",
              "      border-left-color: var(--fill-color);\n",
              "    }\n",
              "    20% {\n",
              "      border-color: transparent;\n",
              "      border-left-color: var(--fill-color);\n",
              "      border-top-color: var(--fill-color);\n",
              "    }\n",
              "    30% {\n",
              "      border-color: transparent;\n",
              "      border-left-color: var(--fill-color);\n",
              "      border-top-color: var(--fill-color);\n",
              "      border-right-color: var(--fill-color);\n",
              "    }\n",
              "    40% {\n",
              "      border-color: transparent;\n",
              "      border-right-color: var(--fill-color);\n",
              "      border-top-color: var(--fill-color);\n",
              "    }\n",
              "    60% {\n",
              "      border-color: transparent;\n",
              "      border-right-color: var(--fill-color);\n",
              "    }\n",
              "    80% {\n",
              "      border-color: transparent;\n",
              "      border-right-color: var(--fill-color);\n",
              "      border-bottom-color: var(--fill-color);\n",
              "    }\n",
              "    90% {\n",
              "      border-color: transparent;\n",
              "      border-bottom-color: var(--fill-color);\n",
              "    }\n",
              "  }\n",
              "</style>\n",
              "\n",
              "  <script>\n",
              "    async function quickchart(key) {\n",
              "      const quickchartButtonEl =\n",
              "        document.querySelector('#' + key + ' button');\n",
              "      quickchartButtonEl.disabled = true;  // To prevent multiple clicks.\n",
              "      quickchartButtonEl.classList.add('colab-df-spinner');\n",
              "      try {\n",
              "        const charts = await google.colab.kernel.invokeFunction(\n",
              "            'suggestCharts', [key], {});\n",
              "      } catch (error) {\n",
              "        console.error('Error during call to suggestCharts:', error);\n",
              "      }\n",
              "      quickchartButtonEl.classList.remove('colab-df-spinner');\n",
              "      quickchartButtonEl.classList.add('colab-df-quickchart-complete');\n",
              "    }\n",
              "    (() => {\n",
              "      let quickchartButtonEl =\n",
              "        document.querySelector('#df-9c969f23-a1f9-47bf-ae91-208e7ff59659 button');\n",
              "      quickchartButtonEl.style.display =\n",
              "        google.colab.kernel.accessAllowed ? 'block' : 'none';\n",
              "    })();\n",
              "  </script>\n",
              "</div>\n",
              "    </div>\n",
              "  </div>\n"
            ],
            "application/vnd.google.colaboratory.intrinsic+json": {
              "type": "dataframe",
              "variable_name": "metrics_df",
              "summary": "{\n  \"name\": \"metrics_df\",\n  \"rows\": 5,\n  \"fields\": [\n    {\n      \"column\": \"Model\",\n      \"properties\": {\n        \"dtype\": \"string\",\n        \"num_unique_values\": 5,\n        \"samples\": [\n          \"logistic_mean\",\n          \"Naive Bayes\",\n          \"svm\"\n        ],\n        \"semantic_type\": \"\",\n        \"description\": \"\"\n      }\n    },\n    {\n      \"column\": \"Accuracy\",\n      \"properties\": {\n        \"dtype\": \"number\",\n        \"std\": 0.038925570002249145,\n        \"min\": 0.504,\n        \"max\": 0.596,\n        \"num_unique_values\": 5,\n        \"samples\": [\n          0.596,\n          0.557,\n          0.504\n        ],\n        \"semantic_type\": \"\",\n        \"description\": \"\"\n      }\n    },\n    {\n      \"column\": \"Precision\",\n      \"properties\": {\n        \"dtype\": \"number\",\n        \"std\": 0.04310104407088069,\n        \"min\": 0.505,\n        \"max\": 0.611,\n        \"num_unique_values\": 5,\n        \"samples\": [\n          0.6,\n          0.611,\n          0.505\n        ],\n        \"semantic_type\": \"\",\n        \"description\": \"\"\n      }\n    },\n    {\n      \"column\": \"Recall\",\n      \"properties\": {\n        \"dtype\": \"number\",\n        \"std\": 0.2216614535727852,\n        \"min\": 0.344,\n        \"max\": 0.966,\n        \"num_unique_values\": 5,\n        \"samples\": [\n          0.607,\n          0.344,\n          0.966\n        ],\n        \"semantic_type\": \"\",\n        \"description\": \"\"\n      }\n    },\n    {\n      \"column\": \"F1 Score\",\n      \"properties\": {\n        \"dtype\": \"number\",\n        \"std\": 0.08310054151448112,\n        \"min\": 0.441,\n        \"max\": 0.664,\n        \"num_unique_values\": 5,\n        \"samples\": [\n          0.603,\n          0.441,\n          0.664\n        ],\n        \"semantic_type\": \"\",\n        \"description\": \"\"\n      }\n    },\n    {\n      \"column\": \"ROC-AUC\",\n      \"properties\": {\n        \"dtype\": \"number\",\n        \"std\": 0.017008821240756238,\n        \"min\": 0.6,\n        \"max\": 0.639,\n        \"num_unique_values\": 4,\n        \"samples\": [\n          0.639,\n          0.6,\n          0.638\n        ],\n        \"semantic_type\": \"\",\n        \"description\": \"\"\n      }\n    }\n  ]\n}"
            }
          },
          "metadata": {},
          "execution_count": 86
        }
      ]
    },
    {
      "cell_type": "markdown",
      "source": [
        "Логистическая регрессия и её модификации, а также LDA, показывают схожие результаты по значениям accuracy, precision, recall и F1 score. Несмотря на высокое значение recall, SVM имеет очень низкую accuracy и precision. Хотя наивный байесовский классификатор показывает хорошую precision, его recall слишком низкий.\n",
        "Для повышения качества предсказаний, можно попробовать использовать более сложные модели."
      ],
      "metadata": {
        "id": "GwjsevsLywxl"
      }
    },
    {
      "cell_type": "code",
      "source": [
        "# Дерево решений\n",
        "from sklearn.tree import DecisionTreeClassifier\n",
        "\n",
        "pipeline = Pipeline([\n",
        "    ('scaler', StandardScaler()),\n",
        "    ('model', DecisionTreeClassifier())\n",
        "])\n",
        "\n",
        "pipeline.fit(X_train, y_train)\n",
        "\n",
        "predictions = pipeline.predict(X_test)\n",
        "\n",
        "DT_metrics = evaluate_model(y_test, predictions, X_test, pipeline, 'Decision Tree')\n",
        "DT_metrics"
      ],
      "metadata": {
        "colab": {
          "base_uri": "https://localhost:8080/"
        },
        "id": "N-51SNUtXsFD",
        "outputId": "c5c100cf-8049-4d71-aa49-294a36795a3c"
      },
      "execution_count": 91,
      "outputs": [
        {
          "output_type": "stream",
          "name": "stdout",
          "text": [
            "Metrics for Decision Tree:\n",
            "Accuracy: 0.547\n",
            "Precision: 0.553\n",
            "Recall: 0.551\n",
            "F1 Score: 0.552\n",
            "ROC-AUC: 0.547\n"
          ]
        }
      ]
    },
    {
      "cell_type": "markdown",
      "source": [
        "Дерево решений в данном случае показывает относительно слабые результаты, модель не очень хорошо отделяет положительный класс от отрицательного, о чем свидетельствует низкий ROC-AUC."
      ],
      "metadata": {
        "id": "Zxm4QcyfG_-6"
      }
    },
    {
      "cell_type": "code",
      "source": [
        "# Случайный лес\n",
        "from sklearn.ensemble import RandomForestClassifier\n",
        "from sklearn.pipeline import Pipeline\n",
        "\n",
        "pipeline = Pipeline([\n",
        "    ('scaler', StandardScaler()),\n",
        "    ('model', RandomForestClassifier())\n",
        "])\n",
        "\n",
        "pipeline.fit(X_train, y_train)\n",
        "\n",
        "predictions = pipeline.predict(X_test)\n",
        "\n",
        "RT_metrics = evaluate_model(y_test, predictions, X_test, pipeline, 'Random Forest')\n",
        "RT_metrics"
      ],
      "metadata": {
        "colab": {
          "base_uri": "https://localhost:8080/"
        },
        "id": "-mWJxL5iXsHj",
        "outputId": "f87a7c48-37c8-47c4-c15c-d9e0b7a69e23"
      },
      "execution_count": 92,
      "outputs": [
        {
          "output_type": "stream",
          "name": "stdout",
          "text": [
            "Metrics for Random Forest:\n",
            "Accuracy: 0.597\n",
            "Precision: 0.601\n",
            "Recall: 0.606\n",
            "F1 Score: 0.604\n",
            "ROC-AUC: 0.625\n"
          ]
        }
      ]
    },
    {
      "cell_type": "markdown",
      "source": [
        "Random Forest показывает значительное улучшение по сравнению с Decision Tree. Модель достигает лучших результатов по всем метрикам, включая accuracy, precision, recall, F1 score и ROC-AUC."
      ],
      "metadata": {
        "id": "dy5B_DcOHJef"
      }
    },
    {
      "cell_type": "code",
      "source": [
        "pip install catboost"
      ],
      "metadata": {
        "collapsed": true,
        "id": "S-kXmBqnbtz4"
      },
      "execution_count": null,
      "outputs": []
    },
    {
      "cell_type": "code",
      "source": [
        "# catboost\n",
        "from catboost import CatBoostClassifier\n",
        "\n",
        "pipeline = Pipeline([\n",
        "    ('scaler', StandardScaler()),\n",
        "    ('model', CatBoostClassifier())\n",
        "])\n",
        "\n",
        "pipeline.fit(X_train, y_train)"
      ],
      "metadata": {
        "id": "esxUXsgBbJin"
      },
      "execution_count": null,
      "outputs": []
    },
    {
      "cell_type": "code",
      "source": [
        "predictions = pipeline.predict(X_test)\n",
        "catboost_metrics = evaluate_model(y_test, predictions, X_test, pipeline, 'CatBoost')\n",
        "catboost_metrics"
      ],
      "metadata": {
        "colab": {
          "base_uri": "https://localhost:8080/"
        },
        "id": "_Mywi_wCc3iU",
        "outputId": "cea399fe-26ab-45c4-87bb-e91926df8490"
      },
      "execution_count": 95,
      "outputs": [
        {
          "output_type": "stream",
          "name": "stdout",
          "text": [
            "Metrics for CatBoost:\n",
            "Accuracy: 0.601\n",
            "Precision: 0.603\n",
            "Recall: 0.616\n",
            "F1 Score: 0.61\n",
            "ROC-AUC: 0.655\n"
          ]
        }
      ]
    },
    {
      "cell_type": "markdown",
      "source": [
        "CatBoost показывает достаточно хорошие результаты по большинству метрик, особенно по recall и F1 Score, что говорит о том, что модель эффективно находит положительные примеры."
      ],
      "metadata": {
        "id": "bEe1Jnr6DzFM"
      }
    },
    {
      "cell_type": "code",
      "source": [
        "metrics_df"
      ],
      "metadata": {
        "colab": {
          "base_uri": "https://localhost:8080/",
          "height": 332
        },
        "id": "ZkxfGC0U5jkk",
        "outputId": "751d8e29-ac3a-46c8-e535-f9f8556b2505"
      },
      "execution_count": 100,
      "outputs": [
        {
          "output_type": "execute_result",
          "data": {
            "text/plain": [
              "           Model  Accuracy  Precision  Recall  F1 Score  ROC-AUC\n",
              "0       baseline     0.592      0.596   0.604     0.600    0.638\n",
              "1  logistic_mean     0.596      0.600   0.607     0.603    0.639\n",
              "2            svm     0.504      0.505   0.966     0.664    0.637\n",
              "3            LDA     0.590      0.594   0.602     0.598    0.638\n",
              "4    Naive Bayes     0.557      0.611   0.344     0.441    0.600\n",
              "5       logistic     0.592      0.596   0.604     0.600    0.638\n",
              "6  Decision Tree     0.547      0.553   0.551     0.552    0.547\n",
              "7  Random Forest     0.597      0.601   0.606     0.604    0.625\n",
              "8       CatBoost     0.601      0.603   0.616     0.610    0.655"
            ],
            "text/html": [
              "\n",
              "  <div id=\"df-4e98be93-54b6-4ad7-9afc-95c306db25a8\" class=\"colab-df-container\">\n",
              "    <div>\n",
              "<style scoped>\n",
              "    .dataframe tbody tr th:only-of-type {\n",
              "        vertical-align: middle;\n",
              "    }\n",
              "\n",
              "    .dataframe tbody tr th {\n",
              "        vertical-align: top;\n",
              "    }\n",
              "\n",
              "    .dataframe thead th {\n",
              "        text-align: right;\n",
              "    }\n",
              "</style>\n",
              "<table border=\"1\" class=\"dataframe\">\n",
              "  <thead>\n",
              "    <tr style=\"text-align: right;\">\n",
              "      <th></th>\n",
              "      <th>Model</th>\n",
              "      <th>Accuracy</th>\n",
              "      <th>Precision</th>\n",
              "      <th>Recall</th>\n",
              "      <th>F1 Score</th>\n",
              "      <th>ROC-AUC</th>\n",
              "    </tr>\n",
              "  </thead>\n",
              "  <tbody>\n",
              "    <tr>\n",
              "      <th>0</th>\n",
              "      <td>baseline</td>\n",
              "      <td>0.592</td>\n",
              "      <td>0.596</td>\n",
              "      <td>0.604</td>\n",
              "      <td>0.600</td>\n",
              "      <td>0.638</td>\n",
              "    </tr>\n",
              "    <tr>\n",
              "      <th>1</th>\n",
              "      <td>logistic_mean</td>\n",
              "      <td>0.596</td>\n",
              "      <td>0.600</td>\n",
              "      <td>0.607</td>\n",
              "      <td>0.603</td>\n",
              "      <td>0.639</td>\n",
              "    </tr>\n",
              "    <tr>\n",
              "      <th>2</th>\n",
              "      <td>svm</td>\n",
              "      <td>0.504</td>\n",
              "      <td>0.505</td>\n",
              "      <td>0.966</td>\n",
              "      <td>0.664</td>\n",
              "      <td>0.637</td>\n",
              "    </tr>\n",
              "    <tr>\n",
              "      <th>3</th>\n",
              "      <td>LDA</td>\n",
              "      <td>0.590</td>\n",
              "      <td>0.594</td>\n",
              "      <td>0.602</td>\n",
              "      <td>0.598</td>\n",
              "      <td>0.638</td>\n",
              "    </tr>\n",
              "    <tr>\n",
              "      <th>4</th>\n",
              "      <td>Naive Bayes</td>\n",
              "      <td>0.557</td>\n",
              "      <td>0.611</td>\n",
              "      <td>0.344</td>\n",
              "      <td>0.441</td>\n",
              "      <td>0.600</td>\n",
              "    </tr>\n",
              "    <tr>\n",
              "      <th>5</th>\n",
              "      <td>logistic</td>\n",
              "      <td>0.592</td>\n",
              "      <td>0.596</td>\n",
              "      <td>0.604</td>\n",
              "      <td>0.600</td>\n",
              "      <td>0.638</td>\n",
              "    </tr>\n",
              "    <tr>\n",
              "      <th>6</th>\n",
              "      <td>Decision Tree</td>\n",
              "      <td>0.547</td>\n",
              "      <td>0.553</td>\n",
              "      <td>0.551</td>\n",
              "      <td>0.552</td>\n",
              "      <td>0.547</td>\n",
              "    </tr>\n",
              "    <tr>\n",
              "      <th>7</th>\n",
              "      <td>Random Forest</td>\n",
              "      <td>0.597</td>\n",
              "      <td>0.601</td>\n",
              "      <td>0.606</td>\n",
              "      <td>0.604</td>\n",
              "      <td>0.625</td>\n",
              "    </tr>\n",
              "    <tr>\n",
              "      <th>8</th>\n",
              "      <td>CatBoost</td>\n",
              "      <td>0.601</td>\n",
              "      <td>0.603</td>\n",
              "      <td>0.616</td>\n",
              "      <td>0.610</td>\n",
              "      <td>0.655</td>\n",
              "    </tr>\n",
              "  </tbody>\n",
              "</table>\n",
              "</div>\n",
              "    <div class=\"colab-df-buttons\">\n",
              "\n",
              "  <div class=\"colab-df-container\">\n",
              "    <button class=\"colab-df-convert\" onclick=\"convertToInteractive('df-4e98be93-54b6-4ad7-9afc-95c306db25a8')\"\n",
              "            title=\"Convert this dataframe to an interactive table.\"\n",
              "            style=\"display:none;\">\n",
              "\n",
              "  <svg xmlns=\"http://www.w3.org/2000/svg\" height=\"24px\" viewBox=\"0 -960 960 960\">\n",
              "    <path d=\"M120-120v-720h720v720H120Zm60-500h600v-160H180v160Zm220 220h160v-160H400v160Zm0 220h160v-160H400v160ZM180-400h160v-160H180v160Zm440 0h160v-160H620v160ZM180-180h160v-160H180v160Zm440 0h160v-160H620v160Z\"/>\n",
              "  </svg>\n",
              "    </button>\n",
              "\n",
              "  <style>\n",
              "    .colab-df-container {\n",
              "      display:flex;\n",
              "      gap: 12px;\n",
              "    }\n",
              "\n",
              "    .colab-df-convert {\n",
              "      background-color: #E8F0FE;\n",
              "      border: none;\n",
              "      border-radius: 50%;\n",
              "      cursor: pointer;\n",
              "      display: none;\n",
              "      fill: #1967D2;\n",
              "      height: 32px;\n",
              "      padding: 0 0 0 0;\n",
              "      width: 32px;\n",
              "    }\n",
              "\n",
              "    .colab-df-convert:hover {\n",
              "      background-color: #E2EBFA;\n",
              "      box-shadow: 0px 1px 2px rgba(60, 64, 67, 0.3), 0px 1px 3px 1px rgba(60, 64, 67, 0.15);\n",
              "      fill: #174EA6;\n",
              "    }\n",
              "\n",
              "    .colab-df-buttons div {\n",
              "      margin-bottom: 4px;\n",
              "    }\n",
              "\n",
              "    [theme=dark] .colab-df-convert {\n",
              "      background-color: #3B4455;\n",
              "      fill: #D2E3FC;\n",
              "    }\n",
              "\n",
              "    [theme=dark] .colab-df-convert:hover {\n",
              "      background-color: #434B5C;\n",
              "      box-shadow: 0px 1px 3px 1px rgba(0, 0, 0, 0.15);\n",
              "      filter: drop-shadow(0px 1px 2px rgba(0, 0, 0, 0.3));\n",
              "      fill: #FFFFFF;\n",
              "    }\n",
              "  </style>\n",
              "\n",
              "    <script>\n",
              "      const buttonEl =\n",
              "        document.querySelector('#df-4e98be93-54b6-4ad7-9afc-95c306db25a8 button.colab-df-convert');\n",
              "      buttonEl.style.display =\n",
              "        google.colab.kernel.accessAllowed ? 'block' : 'none';\n",
              "\n",
              "      async function convertToInteractive(key) {\n",
              "        const element = document.querySelector('#df-4e98be93-54b6-4ad7-9afc-95c306db25a8');\n",
              "        const dataTable =\n",
              "          await google.colab.kernel.invokeFunction('convertToInteractive',\n",
              "                                                    [key], {});\n",
              "        if (!dataTable) return;\n",
              "\n",
              "        const docLinkHtml = 'Like what you see? Visit the ' +\n",
              "          '<a target=\"_blank\" href=https://colab.research.google.com/notebooks/data_table.ipynb>data table notebook</a>'\n",
              "          + ' to learn more about interactive tables.';\n",
              "        element.innerHTML = '';\n",
              "        dataTable['output_type'] = 'display_data';\n",
              "        await google.colab.output.renderOutput(dataTable, element);\n",
              "        const docLink = document.createElement('div');\n",
              "        docLink.innerHTML = docLinkHtml;\n",
              "        element.appendChild(docLink);\n",
              "      }\n",
              "    </script>\n",
              "  </div>\n",
              "\n",
              "\n",
              "<div id=\"df-bd5cb239-1b9c-4ce0-842e-fd5046ec4b4f\">\n",
              "  <button class=\"colab-df-quickchart\" onclick=\"quickchart('df-bd5cb239-1b9c-4ce0-842e-fd5046ec4b4f')\"\n",
              "            title=\"Suggest charts\"\n",
              "            style=\"display:none;\">\n",
              "\n",
              "<svg xmlns=\"http://www.w3.org/2000/svg\" height=\"24px\"viewBox=\"0 0 24 24\"\n",
              "     width=\"24px\">\n",
              "    <g>\n",
              "        <path d=\"M19 3H5c-1.1 0-2 .9-2 2v14c0 1.1.9 2 2 2h14c1.1 0 2-.9 2-2V5c0-1.1-.9-2-2-2zM9 17H7v-7h2v7zm4 0h-2V7h2v10zm4 0h-2v-4h2v4z\"/>\n",
              "    </g>\n",
              "</svg>\n",
              "  </button>\n",
              "\n",
              "<style>\n",
              "  .colab-df-quickchart {\n",
              "      --bg-color: #E8F0FE;\n",
              "      --fill-color: #1967D2;\n",
              "      --hover-bg-color: #E2EBFA;\n",
              "      --hover-fill-color: #174EA6;\n",
              "      --disabled-fill-color: #AAA;\n",
              "      --disabled-bg-color: #DDD;\n",
              "  }\n",
              "\n",
              "  [theme=dark] .colab-df-quickchart {\n",
              "      --bg-color: #3B4455;\n",
              "      --fill-color: #D2E3FC;\n",
              "      --hover-bg-color: #434B5C;\n",
              "      --hover-fill-color: #FFFFFF;\n",
              "      --disabled-bg-color: #3B4455;\n",
              "      --disabled-fill-color: #666;\n",
              "  }\n",
              "\n",
              "  .colab-df-quickchart {\n",
              "    background-color: var(--bg-color);\n",
              "    border: none;\n",
              "    border-radius: 50%;\n",
              "    cursor: pointer;\n",
              "    display: none;\n",
              "    fill: var(--fill-color);\n",
              "    height: 32px;\n",
              "    padding: 0;\n",
              "    width: 32px;\n",
              "  }\n",
              "\n",
              "  .colab-df-quickchart:hover {\n",
              "    background-color: var(--hover-bg-color);\n",
              "    box-shadow: 0 1px 2px rgba(60, 64, 67, 0.3), 0 1px 3px 1px rgba(60, 64, 67, 0.15);\n",
              "    fill: var(--button-hover-fill-color);\n",
              "  }\n",
              "\n",
              "  .colab-df-quickchart-complete:disabled,\n",
              "  .colab-df-quickchart-complete:disabled:hover {\n",
              "    background-color: var(--disabled-bg-color);\n",
              "    fill: var(--disabled-fill-color);\n",
              "    box-shadow: none;\n",
              "  }\n",
              "\n",
              "  .colab-df-spinner {\n",
              "    border: 2px solid var(--fill-color);\n",
              "    border-color: transparent;\n",
              "    border-bottom-color: var(--fill-color);\n",
              "    animation:\n",
              "      spin 1s steps(1) infinite;\n",
              "  }\n",
              "\n",
              "  @keyframes spin {\n",
              "    0% {\n",
              "      border-color: transparent;\n",
              "      border-bottom-color: var(--fill-color);\n",
              "      border-left-color: var(--fill-color);\n",
              "    }\n",
              "    20% {\n",
              "      border-color: transparent;\n",
              "      border-left-color: var(--fill-color);\n",
              "      border-top-color: var(--fill-color);\n",
              "    }\n",
              "    30% {\n",
              "      border-color: transparent;\n",
              "      border-left-color: var(--fill-color);\n",
              "      border-top-color: var(--fill-color);\n",
              "      border-right-color: var(--fill-color);\n",
              "    }\n",
              "    40% {\n",
              "      border-color: transparent;\n",
              "      border-right-color: var(--fill-color);\n",
              "      border-top-color: var(--fill-color);\n",
              "    }\n",
              "    60% {\n",
              "      border-color: transparent;\n",
              "      border-right-color: var(--fill-color);\n",
              "    }\n",
              "    80% {\n",
              "      border-color: transparent;\n",
              "      border-right-color: var(--fill-color);\n",
              "      border-bottom-color: var(--fill-color);\n",
              "    }\n",
              "    90% {\n",
              "      border-color: transparent;\n",
              "      border-bottom-color: var(--fill-color);\n",
              "    }\n",
              "  }\n",
              "</style>\n",
              "\n",
              "  <script>\n",
              "    async function quickchart(key) {\n",
              "      const quickchartButtonEl =\n",
              "        document.querySelector('#' + key + ' button');\n",
              "      quickchartButtonEl.disabled = true;  // To prevent multiple clicks.\n",
              "      quickchartButtonEl.classList.add('colab-df-spinner');\n",
              "      try {\n",
              "        const charts = await google.colab.kernel.invokeFunction(\n",
              "            'suggestCharts', [key], {});\n",
              "      } catch (error) {\n",
              "        console.error('Error during call to suggestCharts:', error);\n",
              "      }\n",
              "      quickchartButtonEl.classList.remove('colab-df-spinner');\n",
              "      quickchartButtonEl.classList.add('colab-df-quickchart-complete');\n",
              "    }\n",
              "    (() => {\n",
              "      let quickchartButtonEl =\n",
              "        document.querySelector('#df-bd5cb239-1b9c-4ce0-842e-fd5046ec4b4f button');\n",
              "      quickchartButtonEl.style.display =\n",
              "        google.colab.kernel.accessAllowed ? 'block' : 'none';\n",
              "    })();\n",
              "  </script>\n",
              "</div>\n",
              "    </div>\n",
              "  </div>\n"
            ],
            "application/vnd.google.colaboratory.intrinsic+json": {
              "type": "dataframe",
              "variable_name": "metrics_df",
              "summary": "{\n  \"name\": \"metrics_df\",\n  \"rows\": 9,\n  \"fields\": [\n    {\n      \"column\": \"Model\",\n      \"properties\": {\n        \"dtype\": \"string\",\n        \"num_unique_values\": 9,\n        \"samples\": [\n          \"Random Forest\",\n          \"logistic_mean\",\n          \"logistic\"\n        ],\n        \"semantic_type\": \"\",\n        \"description\": \"\"\n      }\n    },\n    {\n      \"column\": \"Accuracy\",\n      \"properties\": {\n        \"dtype\": \"number\",\n        \"std\": 0.03269726458147699,\n        \"min\": 0.504,\n        \"max\": 0.601,\n        \"num_unique_values\": 8,\n        \"samples\": [\n          0.596,\n          0.547,\n          0.592\n        ],\n        \"semantic_type\": \"\",\n        \"description\": \"\"\n      }\n    },\n    {\n      \"column\": \"Precision\",\n      \"properties\": {\n        \"dtype\": \"number\",\n        \"std\": 0.033955853692699274,\n        \"min\": 0.505,\n        \"max\": 0.611,\n        \"num_unique_values\": 8,\n        \"samples\": [\n          0.6,\n          0.553,\n          0.596\n        ],\n        \"semantic_type\": \"\",\n        \"description\": \"\"\n      }\n    },\n    {\n      \"column\": \"Recall\",\n      \"properties\": {\n        \"dtype\": \"number\",\n        \"std\": 0.1585713123837698,\n        \"min\": 0.344,\n        \"max\": 0.966,\n        \"num_unique_values\": 8,\n        \"samples\": [\n          0.607,\n          0.551,\n          0.604\n        ],\n        \"semantic_type\": \"\",\n        \"description\": \"\"\n      }\n    },\n    {\n      \"column\": \"F1 Score\",\n      \"properties\": {\n        \"dtype\": \"number\",\n        \"std\": 0.06122658282514585,\n        \"min\": 0.441,\n        \"max\": 0.664,\n        \"num_unique_values\": 8,\n        \"samples\": [\n          0.603,\n          0.552,\n          0.6\n        ],\n        \"semantic_type\": \"\",\n        \"description\": \"\"\n      }\n    },\n    {\n      \"column\": \"ROC-AUC\",\n      \"properties\": {\n        \"dtype\": \"number\",\n        \"std\": 0.03249786317761694,\n        \"min\": 0.547,\n        \"max\": 0.655,\n        \"num_unique_values\": 7,\n        \"samples\": [\n          0.638,\n          0.639,\n          0.625\n        ],\n        \"semantic_type\": \"\",\n        \"description\": \"\"\n      }\n    }\n  ]\n}"
            }
          },
          "metadata": {},
          "execution_count": 100
        }
      ]
    },
    {
      "cell_type": "markdown",
      "source": [
        "Лучшие модели по точности и сбалансированным метрикам: CatBoost и Random Forest. Модель CatBoost демонстрирует лучшие результаты по точности (0.601) и ROC-AUC (0.655), что делает её одной из самых стабильных моделей.\n",
        "ROC-AUC (0.638) baseline модели указывает на то, что она лучше, чем модели, такие как Decision Tree и Naive Bayes, но хуже, чем более сложные алгоритмы, такие как CatBoost и Random Forest.\n",
        "Для дальнейшего улучшения возможно:\n",
        "\n",
        "• Подбор гиперпараметров моделей CatBoost и Random Forest.\n",
        "\n",
        "• Использование других моделей.\n",
        "\n",
        "• Future engineering (добавление информации по героям и тд.)\n"
      ],
      "metadata": {
        "id": "kgcW3h3c79lW"
      }
    }
  ]
}